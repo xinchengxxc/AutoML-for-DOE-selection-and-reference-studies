{
 "cells": [
  {
   "cell_type": "markdown",
   "metadata": {},
   "source": [
    "<img src=\"assets/logo.jpg\" alt=\"HPC Builder Logo\" width=\"64\"/>\n",
    "\n",
    "# HPC Container Builder\n",
    "\n",
    "ARC - Aschaffenburger Research Cluster<br>\n",
    "Version 2024.5.1<br>\n",
    "_by Kat 2024_"
   ]
  },
  {
   "cell_type": "markdown",
   "metadata": {},
   "source": [
    "#### Setup docker build environment\n",
    "\n",
    "First, you'll need to setup some mandatory information before start using the HPC Builder. Create a file **__hpc_setup.yaml** in your workspace root folder and fill in all information:\n",
    "\n",
    "**Also:** Just put your yaml file in gitignore to avoid pushing that info to the repository."
   ]
  },
  {
   "cell_type": "code",
   "execution_count": 1,
   "metadata": {},
   "outputs": [
    {
     "data": {
      "text/html": [
       "<style type=\"text/css\">\n",
       "#T_cf0bf th {\n",
       "  background-color: #404040;\n",
       "  color: white;\n",
       "  border-color: black;\n",
       "  border-style: solid;\n",
       "  border-width: 1px;\n",
       "}\n",
       "#T_cf0bf_row0_col0, #T_cf0bf_row0_col1, #T_cf0bf_row1_col0, #T_cf0bf_row1_col1, #T_cf0bf_row2_col0, #T_cf0bf_row2_col1, #T_cf0bf_row3_col0, #T_cf0bf_row3_col1, #T_cf0bf_row4_col0, #T_cf0bf_row4_col1, #T_cf0bf_row5_col0, #T_cf0bf_row5_col1, #T_cf0bf_row6_col0, #T_cf0bf_row6_col1, #T_cf0bf_row7_col0, #T_cf0bf_row7_col1, #T_cf0bf_row8_col0, #T_cf0bf_row8_col1, #T_cf0bf_row9_col0, #T_cf0bf_row9_col1 {\n",
       "  background-color: #f4f4f4;\n",
       "  color: black;\n",
       "  border-color: black;\n",
       "  border-style: solid;\n",
       "  border-width: 1px;\n",
       "  text-align: left;\n",
       "}\n",
       "</style>\n",
       "<table id=\"T_cf0bf\">\n",
       "  <thead>\n",
       "    <tr>\n",
       "      <th id=\"T_cf0bf_level0_col0\" class=\"col_heading level0 col0\" >Fact</th>\n",
       "      <th id=\"T_cf0bf_level0_col1\" class=\"col_heading level0 col1\" >Value</th>\n",
       "    </tr>\n",
       "  </thead>\n",
       "  <tbody>\n",
       "    <tr>\n",
       "      <td id=\"T_cf0bf_row0_col0\" class=\"data row0 col0\" >lab</td>\n",
       "      <td id=\"T_cf0bf_row0_col1\" class=\"data row0 col1\" >aghm</td>\n",
       "    </tr>\n",
       "    <tr>\n",
       "      <td id=\"T_cf0bf_row1_col0\" class=\"data row1 col0\" >user</td>\n",
       "      <td id=\"T_cf0bf_row1_col1\" class=\"data row1 col1\" >u230292</td>\n",
       "    </tr>\n",
       "    <tr>\n",
       "      <td id=\"T_cf0bf_row2_col0\" class=\"data row2 col0\" >container_name</td>\n",
       "      <td id=\"T_cf0bf_row2_col1\" class=\"data row2 col1\" >automldoe</td>\n",
       "    </tr>\n",
       "    <tr>\n",
       "      <td id=\"T_cf0bf_row3_col0\" class=\"data row3 col0\" >container_tag</td>\n",
       "      <td id=\"T_cf0bf_row3_col1\" class=\"data row3 col1\" >latest</td>\n",
       "    </tr>\n",
       "    <tr>\n",
       "      <td id=\"T_cf0bf_row4_col0\" class=\"data row4 col0\" >docker_file</td>\n",
       "      <td id=\"T_cf0bf_row4_col1\" class=\"data row4 col1\" >Dockerfile</td>\n",
       "    </tr>\n",
       "    <tr>\n",
       "      <td id=\"T_cf0bf_row5_col0\" class=\"data row5 col0\" >registry_host</td>\n",
       "      <td id=\"T_cf0bf_row5_col1\" class=\"data row5 col1\" >10.32.118.9:5000</td>\n",
       "    </tr>\n",
       "    <tr>\n",
       "      <td id=\"T_cf0bf_row6_col0\" class=\"data row6 col0\" >hpc_mn</td>\n",
       "      <td id=\"T_cf0bf_row6_col1\" class=\"data row6 col1\" >10.32.118.9</td>\n",
       "    </tr>\n",
       "    <tr>\n",
       "      <td id=\"T_cf0bf_row7_col0\" class=\"data row7 col0\" >ssh_creds</td>\n",
       "      <td id=\"T_cf0bf_row7_col1\" class=\"data row7 col1\" >{'port': '44100', 'ssh_key_name': 'hpc_u230292', 'ssh_path': '~/.ssh', 'user': 'u230292'}</td>\n",
       "    </tr>\n",
       "    <tr>\n",
       "      <td id=\"T_cf0bf_row8_col0\" class=\"data row8 col0\" >workspace_dir</td>\n",
       "      <td id=\"T_cf0bf_row8_col1\" class=\"data row8 col1\" >automl_DOE</td>\n",
       "    </tr>\n",
       "    <tr>\n",
       "      <td id=\"T_cf0bf_row9_col0\" class=\"data row9 col0\" >hpc_mn_project_base</td>\n",
       "      <td id=\"T_cf0bf_row9_col1\" class=\"data row9 col1\" >/home_cu/u230292/Projects</td>\n",
       "    </tr>\n",
       "  </tbody>\n",
       "</table>\n"
      ],
      "text/plain": [
       "<pandas.io.formats.style.Styler at 0x7fba7836c940>"
      ]
     },
     "metadata": {},
     "output_type": "display_data"
    }
   ],
   "source": [
    "from io import StringIO\n",
    "import pandas as pd\n",
    "import subprocess\n",
    "import yaml\n",
    "import hpctk\n",
    "\n",
    "# load user HPC settings yaml\n",
    "with open('../__hpc_creds.yaml', 'r') as file:\n",
    "    config = yaml.safe_load(file)\n",
    "\n",
    "# Access the variables\n",
    "lab = config[\"lab\"]\n",
    "user = config[\"user\"]\n",
    "workspace_dir = config[\"workspace_dir\"]\n",
    "container_name = config[\"container_name\"]\n",
    "container_tag = config[\"container_tag\"]\n",
    "docker_file = config[\"docker_file\"]\n",
    "registry_host = config[\"registry_host\"]\n",
    "hpc_mn = config[\"hpc_mn\"]\n",
    "hpc_mn_project_base = config[\"hpc_mn_project_base\"]\n",
    "ssh_creds = config[\"ssh_creds\"]\n",
    "\n",
    "hpctk.print_hpc_setup_yaml(lab, user, container_name, container_tag, docker_file, registry_host, hpc_mn, ssh_creds, workspace_dir, hpc_mn_project_base)"
   ]
  },
  {
   "cell_type": "markdown",
   "metadata": {},
   "source": [
    "#### Build and tag docker image for HPC\n",
    "\n",
    "You'll need to build your docker image first. A build can take up to **10 minutes** or more so just be patient. A build might error out. **Read the error messages and don't ignore any warnings.** If your docker image was built fine, a tag for a specific docker registry is mandatory."
   ]
  },
  {
   "cell_type": "code",
   "execution_count": 4,
   "metadata": {},
   "outputs": [
    {
     "name": "stdout",
     "output_type": "stream",
     "text": [
      "🚧 Build docker image local/aghm_u230292_automldoe:latest...\n",
      "\n",
      "🚧 Tag docker image 10.32.118.9:5000/aghm_u230292_automldoe:latest...\n",
      "\n",
      "✅ DONE!\n"
     ]
    },
    {
     "data": {
      "text/html": [
       "<style type=\"text/css\">\n",
       "#T_9a388_row0_col1 {\n",
       "  color: white;\n",
       "  background-color: green;\n",
       "}\n",
       "</style>\n",
       "<table id=\"T_9a388\">\n",
       "  <thead>\n",
       "    <tr>\n",
       "      <th class=\"blank level0\" >&nbsp;</th>\n",
       "      <th id=\"T_9a388_level0_col0\" class=\"col_heading level0 col0\" >REPOSITORY</th>\n",
       "      <th id=\"T_9a388_level0_col1\" class=\"col_heading level0 col1\" >TAG</th>\n",
       "      <th id=\"T_9a388_level0_col2\" class=\"col_heading level0 col2\" >IMAGE_ID</th>\n",
       "      <th id=\"T_9a388_level0_col3\" class=\"col_heading level0 col3\" >SIZE</th>\n",
       "    </tr>\n",
       "  </thead>\n",
       "  <tbody>\n",
       "    <tr>\n",
       "      <th id=\"T_9a388_level0_row0\" class=\"row_heading level0 row0\" >0</th>\n",
       "      <td id=\"T_9a388_row0_col0\" class=\"data row0 col0\" >10.32.118.9:5000/aghm_u230292_automldoe</td>\n",
       "      <td id=\"T_9a388_row0_col1\" class=\"data row0 col1\" >latest</td>\n",
       "      <td id=\"T_9a388_row0_col2\" class=\"data row0 col2\" >9a25d0e86d1f</td>\n",
       "      <td id=\"T_9a388_row0_col3\" class=\"data row0 col3\" >1.09GB</td>\n",
       "    </tr>\n",
       "  </tbody>\n",
       "</table>\n"
      ],
      "text/plain": [
       "<pandas.io.formats.style.Styler at 0x7f1031a6f610>"
      ]
     },
     "metadata": {},
     "output_type": "display_data"
    }
   ],
   "source": [
    "try:\n",
    "    print(f\"{hpctk.STATE_WORK} Build docker image local/{lab}_{user}_{container_name}:{container_tag}...\")\n",
    "    hpctk.run([\"docker\", \"build\", \"-f\", f\"{docker_file}\", \"-t\", f\"local/{lab}_{user}_{container_name}:{container_tag}\", \".\"])\n",
    "    print(f\"{hpctk.STATE_WORK} Tag docker image {registry_host}/{lab}_{user}_{container_name}:{container_tag}...\")\n",
    "    hpctk.run([\"docker\", \"image\", \"tag\", f\"local/{lab}_{user}_{container_name}:{container_tag}\", f\"{registry_host}/{lab}_{user}_{container_name}:{container_tag}\"])\n",
    "    print(f\"{hpctk.STATE_DONE} DONE!\")\n",
    "\n",
    "    result = hpctk.run([\"docker\", \"image\", \"ls\", \"--format\", \"REPOSITORY\\tTAG\\tIMAGE_ID\\tSIZE\\n{{.Repository}}\\t{{.Tag}}\\t{{.ID}}\\t{{.Size}}\", f\"{registry_host}/{lab}_{user}_{container_name}:{container_tag}\"], stdout=False)\n",
    "    hpctk.show_tab_styled(result.stdout, 0, hpctk.highlight_tags, columns=['TAG'])\n",
    "\n",
    "except subprocess.CalledProcessError as e:\n",
    "    print(f\"\\n{hpctk.STATE_FAIL} Failed: {e.returncode}\\n\")\n",
    "    print(f\":: Error message: {e.stderr}\")"
   ]
  },
  {
   "cell_type": "markdown",
   "metadata": {},
   "source": [
    "#### Build and tag docker image for development\n",
    "\n",
    "Run this to create a local container image for development."
   ]
  },
  {
   "cell_type": "code",
   "execution_count": 11,
   "metadata": {},
   "outputs": [
    {
     "name": "stdout",
     "output_type": "stream",
     "text": [
      "🚧 Build docker image local/automldoe:latest...\n"
     ]
    },
    {
     "ename": "KeyboardInterrupt",
     "evalue": "",
     "output_type": "error",
     "traceback": [
      "\u001b[0;31m---------------------------------------------------------------------------\u001b[0m",
      "\u001b[0;31mKeyboardInterrupt\u001b[0m                         Traceback (most recent call last)",
      "Cell \u001b[0;32mIn[11], line 3\u001b[0m\n\u001b[1;32m      1\u001b[0m \u001b[38;5;28;01mtry\u001b[39;00m:\n\u001b[1;32m      2\u001b[0m     \u001b[38;5;28mprint\u001b[39m(\u001b[38;5;124mf\u001b[39m\u001b[38;5;124m\"\u001b[39m\u001b[38;5;132;01m{\u001b[39;00mhpctk\u001b[38;5;241m.\u001b[39mSTATE_WORK\u001b[38;5;132;01m}\u001b[39;00m\u001b[38;5;124m Build docker image local/\u001b[39m\u001b[38;5;132;01m{\u001b[39;00mcontainer_name\u001b[38;5;132;01m}\u001b[39;00m\u001b[38;5;124m:\u001b[39m\u001b[38;5;132;01m{\u001b[39;00mcontainer_tag\u001b[38;5;132;01m}\u001b[39;00m\u001b[38;5;124m...\u001b[39m\u001b[38;5;124m\"\u001b[39m)\n\u001b[0;32m----> 3\u001b[0m     \u001b[43mhpctk\u001b[49m\u001b[38;5;241;43m.\u001b[39;49m\u001b[43mrun\u001b[49m\u001b[43m(\u001b[49m\u001b[43m[\u001b[49m\u001b[38;5;124;43m\"\u001b[39;49m\u001b[38;5;124;43mdocker\u001b[39;49m\u001b[38;5;124;43m\"\u001b[39;49m\u001b[43m,\u001b[49m\u001b[43m \u001b[49m\u001b[38;5;124;43m\"\u001b[39;49m\u001b[38;5;124;43mbuild\u001b[39;49m\u001b[38;5;124;43m\"\u001b[39;49m\u001b[43m,\u001b[49m\u001b[43m \u001b[49m\u001b[38;5;124;43m\"\u001b[39;49m\u001b[38;5;124;43m-f\u001b[39;49m\u001b[38;5;124;43m\"\u001b[39;49m\u001b[43m,\u001b[49m\u001b[43m \u001b[49m\u001b[38;5;124;43mf\u001b[39;49m\u001b[38;5;124;43m\"\u001b[39;49m\u001b[38;5;132;43;01m{\u001b[39;49;00m\u001b[43mdocker_file\u001b[49m\u001b[38;5;132;43;01m}\u001b[39;49;00m\u001b[38;5;124;43m\"\u001b[39;49m\u001b[43m,\u001b[49m\u001b[43m \u001b[49m\u001b[38;5;124;43m\"\u001b[39;49m\u001b[38;5;124;43m-t\u001b[39;49m\u001b[38;5;124;43m\"\u001b[39;49m\u001b[43m,\u001b[49m\u001b[43m \u001b[49m\u001b[38;5;124;43mf\u001b[39;49m\u001b[38;5;124;43m\"\u001b[39;49m\u001b[38;5;124;43mlocal/\u001b[39;49m\u001b[38;5;132;43;01m{\u001b[39;49;00m\u001b[43mcontainer_name\u001b[49m\u001b[38;5;132;43;01m}\u001b[39;49;00m\u001b[38;5;124;43m:\u001b[39;49m\u001b[38;5;132;43;01m{\u001b[39;49;00m\u001b[43mcontainer_tag\u001b[49m\u001b[38;5;132;43;01m}\u001b[39;49;00m\u001b[38;5;124;43m\"\u001b[39;49m\u001b[43m,\u001b[49m\u001b[43m \u001b[49m\u001b[38;5;124;43m\"\u001b[39;49m\u001b[38;5;124;43m.\u001b[39;49m\u001b[38;5;124;43m\"\u001b[39;49m\u001b[43m]\u001b[49m\u001b[43m)\u001b[49m\n\u001b[1;32m      4\u001b[0m     \u001b[38;5;28mprint\u001b[39m(\u001b[38;5;124mf\u001b[39m\u001b[38;5;124m\"\u001b[39m\u001b[38;5;132;01m{\u001b[39;00mhpctk\u001b[38;5;241m.\u001b[39mSTATE_DONE\u001b[38;5;132;01m}\u001b[39;00m\u001b[38;5;124m DONE!\u001b[39m\u001b[38;5;124m\"\u001b[39m)\n\u001b[1;32m      5\u001b[0m     \u001b[38;5;66;03m################## added sudo on this WSL machine ###########################\u001b[39;00m\n",
      "File \u001b[0;32m~/HPC/automl_DOE/tools/hpctk.py:30\u001b[0m, in \u001b[0;36mrun\u001b[0;34m(cmd, stdout)\u001b[0m\n\u001b[1;32m     22\u001b[0m \u001b[38;5;28;01mdef\u001b[39;00m \u001b[38;5;21mrun\u001b[39m(cmd, stdout\u001b[38;5;241m=\u001b[39m\u001b[38;5;28;01mTrue\u001b[39;00m):\n\u001b[1;32m     23\u001b[0m \u001b[38;5;250m    \u001b[39m\u001b[38;5;124;03m\"\"\"\u001b[39;00m\n\u001b[1;32m     24\u001b[0m \u001b[38;5;124;03m    Run a command locally.\u001b[39;00m\n\u001b[1;32m     25\u001b[0m \n\u001b[0;32m   (...)\u001b[0m\n\u001b[1;32m     28\u001b[0m \u001b[38;5;124;03m    - stdout: Print stdout by default (True)\u001b[39;00m\n\u001b[1;32m     29\u001b[0m \u001b[38;5;124;03m    \"\"\"\u001b[39;00m\n\u001b[0;32m---> 30\u001b[0m     result \u001b[38;5;241m=\u001b[39m \u001b[43msubprocess\u001b[49m\u001b[38;5;241;43m.\u001b[39;49m\u001b[43mrun\u001b[49m\u001b[43m(\u001b[49m\u001b[43mcmd\u001b[49m\u001b[43m,\u001b[49m\u001b[43m \u001b[49m\u001b[43mcapture_output\u001b[49m\u001b[38;5;241;43m=\u001b[39;49m\u001b[38;5;28;43;01mTrue\u001b[39;49;00m\u001b[43m,\u001b[49m\u001b[43m \u001b[49m\u001b[43mtext\u001b[49m\u001b[38;5;241;43m=\u001b[39;49m\u001b[38;5;28;43;01mTrue\u001b[39;49;00m\u001b[43m,\u001b[49m\u001b[43m \u001b[49m\u001b[43mcwd\u001b[49m\u001b[38;5;241;43m=\u001b[39;49m\u001b[38;5;124;43m\"\u001b[39;49m\u001b[38;5;124;43m../\u001b[39;49m\u001b[38;5;124;43m\"\u001b[39;49m\u001b[43m)\u001b[49m\n\u001b[1;32m     31\u001b[0m     \u001b[38;5;28;01mif\u001b[39;00m (result\u001b[38;5;241m.\u001b[39mreturncode \u001b[38;5;241m!=\u001b[39m \u001b[38;5;241m0\u001b[39m):\n\u001b[1;32m     32\u001b[0m         \u001b[38;5;28;01mraise\u001b[39;00m subprocess\u001b[38;5;241m.\u001b[39mCalledProcessError(result\u001b[38;5;241m.\u001b[39mreturncode, cmd, output\u001b[38;5;241m=\u001b[39mresult\u001b[38;5;241m.\u001b[39mstdout, stderr\u001b[38;5;241m=\u001b[39mresult\u001b[38;5;241m.\u001b[39mstderr)\n",
      "File \u001b[0;32m/usr/lib/python3.10/subprocess.py:505\u001b[0m, in \u001b[0;36mrun\u001b[0;34m(input, capture_output, timeout, check, *popenargs, **kwargs)\u001b[0m\n\u001b[1;32m    503\u001b[0m \u001b[38;5;28;01mwith\u001b[39;00m Popen(\u001b[38;5;241m*\u001b[39mpopenargs, \u001b[38;5;241m*\u001b[39m\u001b[38;5;241m*\u001b[39mkwargs) \u001b[38;5;28;01mas\u001b[39;00m process:\n\u001b[1;32m    504\u001b[0m     \u001b[38;5;28;01mtry\u001b[39;00m:\n\u001b[0;32m--> 505\u001b[0m         stdout, stderr \u001b[38;5;241m=\u001b[39m \u001b[43mprocess\u001b[49m\u001b[38;5;241;43m.\u001b[39;49m\u001b[43mcommunicate\u001b[49m\u001b[43m(\u001b[49m\u001b[38;5;28;43minput\u001b[39;49m\u001b[43m,\u001b[49m\u001b[43m \u001b[49m\u001b[43mtimeout\u001b[49m\u001b[38;5;241;43m=\u001b[39;49m\u001b[43mtimeout\u001b[49m\u001b[43m)\u001b[49m\n\u001b[1;32m    506\u001b[0m     \u001b[38;5;28;01mexcept\u001b[39;00m TimeoutExpired \u001b[38;5;28;01mas\u001b[39;00m exc:\n\u001b[1;32m    507\u001b[0m         process\u001b[38;5;241m.\u001b[39mkill()\n",
      "File \u001b[0;32m/usr/lib/python3.10/subprocess.py:1154\u001b[0m, in \u001b[0;36mPopen.communicate\u001b[0;34m(self, input, timeout)\u001b[0m\n\u001b[1;32m   1151\u001b[0m     endtime \u001b[38;5;241m=\u001b[39m \u001b[38;5;28;01mNone\u001b[39;00m\n\u001b[1;32m   1153\u001b[0m \u001b[38;5;28;01mtry\u001b[39;00m:\n\u001b[0;32m-> 1154\u001b[0m     stdout, stderr \u001b[38;5;241m=\u001b[39m \u001b[38;5;28;43mself\u001b[39;49m\u001b[38;5;241;43m.\u001b[39;49m\u001b[43m_communicate\u001b[49m\u001b[43m(\u001b[49m\u001b[38;5;28;43minput\u001b[39;49m\u001b[43m,\u001b[49m\u001b[43m \u001b[49m\u001b[43mendtime\u001b[49m\u001b[43m,\u001b[49m\u001b[43m \u001b[49m\u001b[43mtimeout\u001b[49m\u001b[43m)\u001b[49m\n\u001b[1;32m   1155\u001b[0m \u001b[38;5;28;01mexcept\u001b[39;00m \u001b[38;5;167;01mKeyboardInterrupt\u001b[39;00m:\n\u001b[1;32m   1156\u001b[0m     \u001b[38;5;66;03m# https://bugs.python.org/issue25942\u001b[39;00m\n\u001b[1;32m   1157\u001b[0m     \u001b[38;5;66;03m# See the detailed comment in .wait().\u001b[39;00m\n\u001b[1;32m   1158\u001b[0m     \u001b[38;5;28;01mif\u001b[39;00m timeout \u001b[38;5;129;01mis\u001b[39;00m \u001b[38;5;129;01mnot\u001b[39;00m \u001b[38;5;28;01mNone\u001b[39;00m:\n",
      "File \u001b[0;32m/usr/lib/python3.10/subprocess.py:2021\u001b[0m, in \u001b[0;36mPopen._communicate\u001b[0;34m(self, input, endtime, orig_timeout)\u001b[0m\n\u001b[1;32m   2014\u001b[0m     \u001b[38;5;28mself\u001b[39m\u001b[38;5;241m.\u001b[39m_check_timeout(endtime, orig_timeout,\n\u001b[1;32m   2015\u001b[0m                         stdout, stderr,\n\u001b[1;32m   2016\u001b[0m                         skip_check_and_raise\u001b[38;5;241m=\u001b[39m\u001b[38;5;28;01mTrue\u001b[39;00m)\n\u001b[1;32m   2017\u001b[0m     \u001b[38;5;28;01mraise\u001b[39;00m \u001b[38;5;167;01mRuntimeError\u001b[39;00m(  \u001b[38;5;66;03m# Impossible :)\u001b[39;00m\n\u001b[1;32m   2018\u001b[0m         \u001b[38;5;124m'\u001b[39m\u001b[38;5;124m_check_timeout(..., skip_check_and_raise=True) \u001b[39m\u001b[38;5;124m'\u001b[39m\n\u001b[1;32m   2019\u001b[0m         \u001b[38;5;124m'\u001b[39m\u001b[38;5;124mfailed to raise TimeoutExpired.\u001b[39m\u001b[38;5;124m'\u001b[39m)\n\u001b[0;32m-> 2021\u001b[0m ready \u001b[38;5;241m=\u001b[39m \u001b[43mselector\u001b[49m\u001b[38;5;241;43m.\u001b[39;49m\u001b[43mselect\u001b[49m\u001b[43m(\u001b[49m\u001b[43mtimeout\u001b[49m\u001b[43m)\u001b[49m\n\u001b[1;32m   2022\u001b[0m \u001b[38;5;28mself\u001b[39m\u001b[38;5;241m.\u001b[39m_check_timeout(endtime, orig_timeout, stdout, stderr)\n\u001b[1;32m   2024\u001b[0m \u001b[38;5;66;03m# XXX Rewrite these to use non-blocking I/O on the file\u001b[39;00m\n\u001b[1;32m   2025\u001b[0m \u001b[38;5;66;03m# objects; they are no longer using C stdio!\u001b[39;00m\n",
      "File \u001b[0;32m/usr/lib/python3.10/selectors.py:416\u001b[0m, in \u001b[0;36m_PollLikeSelector.select\u001b[0;34m(self, timeout)\u001b[0m\n\u001b[1;32m    414\u001b[0m ready \u001b[38;5;241m=\u001b[39m []\n\u001b[1;32m    415\u001b[0m \u001b[38;5;28;01mtry\u001b[39;00m:\n\u001b[0;32m--> 416\u001b[0m     fd_event_list \u001b[38;5;241m=\u001b[39m \u001b[38;5;28;43mself\u001b[39;49m\u001b[38;5;241;43m.\u001b[39;49m\u001b[43m_selector\u001b[49m\u001b[38;5;241;43m.\u001b[39;49m\u001b[43mpoll\u001b[49m\u001b[43m(\u001b[49m\u001b[43mtimeout\u001b[49m\u001b[43m)\u001b[49m\n\u001b[1;32m    417\u001b[0m \u001b[38;5;28;01mexcept\u001b[39;00m \u001b[38;5;167;01mInterruptedError\u001b[39;00m:\n\u001b[1;32m    418\u001b[0m     \u001b[38;5;28;01mreturn\u001b[39;00m ready\n",
      "\u001b[0;31mKeyboardInterrupt\u001b[0m: "
     ]
    }
   ],
   "source": [
    "try:\n",
    "    print(f\"{hpctk.STATE_WORK} Build docker image local/{container_name}:{container_tag}...\")\n",
    "    hpctk.run([\"docker\", \"build\", \"-f\", f\"{docker_file}\", \"-t\", f\"local/{container_name}:{container_tag}\", \".\"])\n",
    "    print(f\"{hpctk.STATE_DONE} DONE!\")\n",
    "    ################## added sudo on this WSL machine ###########################\n",
    "    result = hpctk.run([\"docker\", \"image\", \"ls\", \"--format\", \"REPOSITORY\\tTAG\\tIMAGE_ID\\tSIZE\\n{{.Repository}}\\t{{.Tag}}\\t{{.ID}}\\t{{.Size}}\", f\"{registry_host}/{lab}_{user}_{container_name}:{container_tag}\"], stdout=False)\n",
    "    hpctk.show_tab_styled(result.stdout, 0, hpctk.highlight_tags, columns=['TAG']) ############error\n",
    "\n",
    "except subprocess.CalledProcessError as e:\n",
    "    print(f\"\\n{hpctk.STATE_FAIL} Failed: {e.returncode}\\n\")\n",
    "    print(f\":: Error message: {e.stderr}\")"
   ]
  },
  {
   "cell_type": "markdown",
   "metadata": {},
   "source": [
    "#### Push docker image to HPC"
   ]
  },
  {
   "cell_type": "code",
   "execution_count": 6,
   "metadata": {},
   "outputs": [
    {
     "name": "stdout",
     "output_type": "stream",
     "text": [
      "🚧 Push docker image 10.32.118.9:5000/aghm_u230292_automldoe:latest...\n",
      "\n",
      "✅ DONE!\n",
      "\n",
      "{\"name\":\"aghm_u230292_automldoe\",\"tags\":[\"latest\"]}\n",
      "\n"
     ]
    }
   ],
   "source": [
    "try:\n",
    "    print(f\"{hpctk.STATE_WORK} Push docker image {registry_host}/{lab}_{user}_{container_name}:{container_tag}...\")\n",
    "    hpctk.run([\"docker\", \"push\", f\"{registry_host}/{lab}_{user}_{container_name}:{container_tag}\"], stdout=False)\n",
    "    print(f\"\\n{hpctk.STATE_DONE} DONE!\\n\")\n",
    "    \n",
    "    hpctk.run([\"curl\", \"-X\", \"GET\", f\"https://{registry_host}/v2/{lab}_{user}_{container_name}/tags/list\"])\n",
    "\n",
    "except subprocess.CalledProcessError as e:\n",
    "    print(f\"\\n{hpctk.STATE_FAIL} Failed: {e.returncode}\\n\")\n",
    "    print(f\":: Error message: {e.stderr}\")"
   ]
  },
  {
   "cell_type": "markdown",
   "metadata": {},
   "source": [
    "#### Push code to HPC"
   ]
  },
  {
   "cell_type": "code",
   "execution_count": 4,
   "metadata": {},
   "outputs": [
    {
     "name": "stdout",
     "output_type": "stream",
     "text": [
      "🚧 Push code to HPC u230292@10.32.118.9:/home_cu/u230292/Projects...\n",
      "sending incremental file list\n",
      "automl_DOE/hpc/auto.bash\n",
      "\n",
      "sent 1,661 bytes  received 69 bytes  1,153.33 bytes/sec\n",
      "total size is 160,572  speedup is 92.82\n",
      "\n",
      "\n",
      "✅ DONE!\n",
      "\n"
     ]
    }
   ],
   "source": [
    "try:\n",
    "    ssh_port = ssh_creds[\"port\"]\n",
    "    ssh_key_file = f\"{ssh_creds['ssh_path']}/{ssh_creds['ssh_key_name']}\"\n",
    "    ssh_user = ssh_creds[\"user\"]\n",
    "\n",
    "    print(f\"{hpctk.STATE_WORK} Push code to HPC {ssh_user}@{hpc_mn}:{hpc_mn_project_base}...\")\n",
    "    hpctk.run([\"rsync\", \"-av\", f\"--rsh=ssh -p {ssh_port} -i {ssh_key_file}\", f\"../{workspace_dir}\", f\"{ssh_user}@{hpc_mn}:{hpc_mn_project_base}/\"])\n",
    "    print(f\"\\n{hpctk.STATE_DONE} DONE!\\n\")\n",
    "\n",
    "except subprocess.CalledProcessError as e:\n",
    "    print(f\"\\n{hpctk.STATE_FAIL} Failed: {e.returncode}\\n\")\n",
    "    print(f\"Error message: {e.stderr}\")"
   ]
  }
 ],
 "metadata": {
  "kernelspec": {
   "display_name": "Python 3",
   "language": "python",
   "name": "python3"
  },
  "language_info": {
   "codemirror_mode": {
    "name": "ipython",
    "version": 3
   },
   "file_extension": ".py",
   "mimetype": "text/x-python",
   "name": "python",
   "nbconvert_exporter": "python",
   "pygments_lexer": "ipython3",
   "version": "3.10.12"
  }
 },
 "nbformat": 4,
 "nbformat_minor": 2
}
