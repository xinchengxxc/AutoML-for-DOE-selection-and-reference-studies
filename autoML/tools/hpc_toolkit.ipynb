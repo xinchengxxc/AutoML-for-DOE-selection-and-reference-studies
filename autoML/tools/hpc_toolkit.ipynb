{
 "cells": [
  {
   "cell_type": "markdown",
   "metadata": {},
   "source": [
    "<img src=\"assets/logo.jpg\" alt=\"HPC Builder Logo\" width=\"64\"/>\n",
    "\n",
    "# HPC Toolkit\n",
    "\n",
    "ARC - Aschaffenburger Research Cluster<br>\n",
    "Version 2024.5.1<br>\n",
    "_by Kat 2024_"
   ]
  },
  {
   "cell_type": "markdown",
   "metadata": {},
   "source": [
    "#### Setup HPC Toolkit\n",
    "\n",
    "First, you'll need to setup some mandatory information before start using the **HPC Toolkit**. Create a file **__hpc_setup.yaml** in your workspace root folder and fill in all information:\n",
    "\n",
    "**Also:** Just put your yaml file in gitignore to avoid pushing that info to the repository."
   ]
  },
  {
   "cell_type": "code",
   "execution_count": 1,
   "metadata": {},
   "outputs": [
    {
     "data": {
      "text/html": [
       "<style type=\"text/css\">\n",
       "#T_10ab0 th {\n",
       "  background-color: #404040;\n",
       "  color: white;\n",
       "  border-color: black;\n",
       "  border-style: solid;\n",
       "  border-width: 1px;\n",
       "}\n",
       "#T_10ab0_row0_col0, #T_10ab0_row0_col1, #T_10ab0_row1_col0, #T_10ab0_row1_col1, #T_10ab0_row2_col0, #T_10ab0_row2_col1, #T_10ab0_row3_col0, #T_10ab0_row3_col1, #T_10ab0_row4_col0, #T_10ab0_row4_col1, #T_10ab0_row5_col0, #T_10ab0_row5_col1, #T_10ab0_row6_col0, #T_10ab0_row6_col1, #T_10ab0_row7_col0, #T_10ab0_row7_col1, #T_10ab0_row8_col0, #T_10ab0_row8_col1, #T_10ab0_row9_col0, #T_10ab0_row9_col1 {\n",
       "  background-color: #f4f4f4;\n",
       "  color: black;\n",
       "  border-color: black;\n",
       "  border-style: solid;\n",
       "  border-width: 1px;\n",
       "  text-align: left;\n",
       "}\n",
       "</style>\n",
       "<table id=\"T_10ab0\">\n",
       "  <thead>\n",
       "    <tr>\n",
       "      <th id=\"T_10ab0_level0_col0\" class=\"col_heading level0 col0\" >Fact</th>\n",
       "      <th id=\"T_10ab0_level0_col1\" class=\"col_heading level0 col1\" >Value</th>\n",
       "    </tr>\n",
       "  </thead>\n",
       "  <tbody>\n",
       "    <tr>\n",
       "      <td id=\"T_10ab0_row0_col0\" class=\"data row0 col0\" >lab</td>\n",
       "      <td id=\"T_10ab0_row0_col1\" class=\"data row0 col1\" >aghm</td>\n",
       "    </tr>\n",
       "    <tr>\n",
       "      <td id=\"T_10ab0_row1_col0\" class=\"data row1 col0\" >user</td>\n",
       "      <td id=\"T_10ab0_row1_col1\" class=\"data row1 col1\" >u01233</td>\n",
       "    </tr>\n",
       "    <tr>\n",
       "      <td id=\"T_10ab0_row2_col0\" class=\"data row2 col0\" >container_name</td>\n",
       "      <td id=\"T_10ab0_row2_col1\" class=\"data row2 col1\" >automldoe</td>\n",
       "    </tr>\n",
       "    <tr>\n",
       "      <td id=\"T_10ab0_row3_col0\" class=\"data row3 col0\" >container_tag</td>\n",
       "      <td id=\"T_10ab0_row3_col1\" class=\"data row3 col1\" >latest</td>\n",
       "    </tr>\n",
       "    <tr>\n",
       "      <td id=\"T_10ab0_row4_col0\" class=\"data row4 col0\" >docker_file</td>\n",
       "      <td id=\"T_10ab0_row4_col1\" class=\"data row4 col1\" >Dockerfile</td>\n",
       "    </tr>\n",
       "    <tr>\n",
       "      <td id=\"T_10ab0_row5_col0\" class=\"data row5 col0\" >registry_host</td>\n",
       "      <td id=\"T_10ab0_row5_col1\" class=\"data row5 col1\" >10.32.118.9:5000</td>\n",
       "    </tr>\n",
       "    <tr>\n",
       "      <td id=\"T_10ab0_row6_col0\" class=\"data row6 col0\" >hpc_mn</td>\n",
       "      <td id=\"T_10ab0_row6_col1\" class=\"data row6 col1\" >10.32.118.9</td>\n",
       "    </tr>\n",
       "    <tr>\n",
       "      <td id=\"T_10ab0_row7_col0\" class=\"data row7 col0\" >ssh_creds</td>\n",
       "      <td id=\"T_10ab0_row7_col1\" class=\"data row7 col1\" >{'port': '44100', 'ssh_key_name': 'hpc', 'ssh_path': '~/.ssh', 'user': 'u01233'}</td>\n",
       "    </tr>\n",
       "    <tr>\n",
       "      <td id=\"T_10ab0_row8_col0\" class=\"data row8 col0\" >workspace_dir</td>\n",
       "      <td id=\"T_10ab0_row8_col1\" class=\"data row8 col1\" >automl_DOE</td>\n",
       "    </tr>\n",
       "    <tr>\n",
       "      <td id=\"T_10ab0_row9_col0\" class=\"data row9 col0\" >hpc_mn_project_base</td>\n",
       "      <td id=\"T_10ab0_row9_col1\" class=\"data row9 col1\" >/home_cu/u01233/Projects</td>\n",
       "    </tr>\n",
       "  </tbody>\n",
       "</table>\n"
      ],
      "text/plain": [
       "<pandas.io.formats.style.Styler at 0x7f4a9416ea70>"
      ]
     },
     "metadata": {},
     "output_type": "display_data"
    }
   ],
   "source": [
    "from io import StringIO\n",
    "import pandas as pd\n",
    "import subprocess\n",
    "import yaml\n",
    "import hpctk\n",
    "\n",
    "# load user HPC settings yaml\n",
    "with open('../__hpc_creds.yaml', 'r') as file:\n",
    "    config = yaml.safe_load(file)\n",
    "\n",
    "# Access the variables\n",
    "lab = config[\"lab\"]\n",
    "user = config[\"user\"]\n",
    "workspace_dir = config[\"workspace_dir\"]\n",
    "container_name = config[\"container_name\"]\n",
    "container_tag = config[\"container_tag\"]\n",
    "docker_file = config[\"docker_file\"]\n",
    "registry_host = config[\"registry_host\"]\n",
    "hpc_mn = config[\"hpc_mn\"]\n",
    "hpc_mn_project_base = config[\"hpc_mn_project_base\"]\n",
    "ssh_creds = config[\"ssh_creds\"]\n",
    "\n",
    "hpctk.print_hpc_setup_yaml(lab, user, container_name, container_tag, docker_file, registry_host, hpc_mn, ssh_creds, workspace_dir, hpc_mn_project_base)"
   ]
  },
  {
   "cell_type": "markdown",
   "metadata": {},
   "source": [
    "#### Get cluster detail status"
   ]
  },
  {
   "cell_type": "code",
   "execution_count": 2,
   "metadata": {},
   "outputs": [
    {
     "data": {
      "text/html": [
       "<style type=\"text/css\">\n",
       "#T_128b8_row0_col3, #T_128b8_row1_col3, #T_128b8_row2_col3 {\n",
       "  color: white;\n",
       "  background-color: green;\n",
       "}\n",
       "</style>\n",
       "<table id=\"T_128b8\">\n",
       "  <thead>\n",
       "    <tr>\n",
       "      <th class=\"blank level0\" >&nbsp;</th>\n",
       "      <th id=\"T_128b8_level0_col0\" class=\"col_heading level0 col0\" >NODELIST</th>\n",
       "      <th id=\"T_128b8_level0_col1\" class=\"col_heading level0 col1\" >NODES</th>\n",
       "      <th id=\"T_128b8_level0_col2\" class=\"col_heading level0 col2\" >PARTITION</th>\n",
       "      <th id=\"T_128b8_level0_col3\" class=\"col_heading level0 col3\" >STATE</th>\n",
       "      <th id=\"T_128b8_level0_col4\" class=\"col_heading level0 col4\" >CPUS</th>\n",
       "      <th id=\"T_128b8_level0_col5\" class=\"col_heading level0 col5\" >S:C:T</th>\n",
       "      <th id=\"T_128b8_level0_col6\" class=\"col_heading level0 col6\" >MEMORY</th>\n",
       "      <th id=\"T_128b8_level0_col7\" class=\"col_heading level0 col7\" >TMP_DISK</th>\n",
       "      <th id=\"T_128b8_level0_col8\" class=\"col_heading level0 col8\" >WEIGHT</th>\n",
       "      <th id=\"T_128b8_level0_col9\" class=\"col_heading level0 col9\" >AVAIL_FE</th>\n",
       "      <th id=\"T_128b8_level0_col10\" class=\"col_heading level0 col10\" >REASON</th>\n",
       "    </tr>\n",
       "  </thead>\n",
       "  <tbody>\n",
       "    <tr>\n",
       "      <th id=\"T_128b8_level0_row0\" class=\"row_heading level0 row0\" >0</th>\n",
       "      <td id=\"T_128b8_row0_col0\" class=\"data row0 col0\" >DT-IW-24-062</td>\n",
       "      <td id=\"T_128b8_row0_col1\" class=\"data row0 col1\" >1</td>\n",
       "      <td id=\"T_128b8_row0_col2\" class=\"data row0 col2\" >LARs-p0*</td>\n",
       "      <td id=\"T_128b8_row0_col3\" class=\"data row0 col3\" >idle</td>\n",
       "      <td id=\"T_128b8_row0_col4\" class=\"data row0 col4\" >32</td>\n",
       "      <td id=\"T_128b8_row0_col5\" class=\"data row0 col5\" >1:16:2</td>\n",
       "      <td id=\"T_128b8_row0_col6\" class=\"data row0 col6\" >500000</td>\n",
       "      <td id=\"T_128b8_row0_col7\" class=\"data row0 col7\" >0</td>\n",
       "      <td id=\"T_128b8_row0_col8\" class=\"data row0 col8\" >1</td>\n",
       "      <td id=\"T_128b8_row0_col9\" class=\"data row0 col9\" >(null)</td>\n",
       "      <td id=\"T_128b8_row0_col10\" class=\"data row0 col10\" >none</td>\n",
       "    </tr>\n",
       "    <tr>\n",
       "      <th id=\"T_128b8_level0_row1\" class=\"row_heading level0 row1\" >1</th>\n",
       "      <td id=\"T_128b8_row1_col0\" class=\"data row1 col0\" >DT-ZW-21-006</td>\n",
       "      <td id=\"T_128b8_row1_col1\" class=\"data row1 col1\" >1</td>\n",
       "      <td id=\"T_128b8_row1_col2\" class=\"data row1 col2\" >LARs-p0*</td>\n",
       "      <td id=\"T_128b8_row1_col3\" class=\"data row1 col3\" >idle</td>\n",
       "      <td id=\"T_128b8_row1_col4\" class=\"data row1 col4\" >36</td>\n",
       "      <td id=\"T_128b8_row1_col5\" class=\"data row1 col5\" >1:18:2</td>\n",
       "      <td id=\"T_128b8_row1_col6\" class=\"data row1 col6\" >123000</td>\n",
       "      <td id=\"T_128b8_row1_col7\" class=\"data row1 col7\" >0</td>\n",
       "      <td id=\"T_128b8_row1_col8\" class=\"data row1 col8\" >1</td>\n",
       "      <td id=\"T_128b8_row1_col9\" class=\"data row1 col9\" >(null)</td>\n",
       "      <td id=\"T_128b8_row1_col10\" class=\"data row1 col10\" >none</td>\n",
       "    </tr>\n",
       "    <tr>\n",
       "      <th id=\"T_128b8_level0_row2\" class=\"row_heading level0 row2\" >2</th>\n",
       "      <td id=\"T_128b8_row2_col0\" class=\"data row2 col0\" >LG-MIS-DT-001</td>\n",
       "      <td id=\"T_128b8_row2_col1\" class=\"data row2 col1\" >1</td>\n",
       "      <td id=\"T_128b8_row2_col2\" class=\"data row2 col2\" >LARs-p0*</td>\n",
       "      <td id=\"T_128b8_row2_col3\" class=\"data row2 col3\" >idle</td>\n",
       "      <td id=\"T_128b8_row2_col4\" class=\"data row2 col4\" >16</td>\n",
       "      <td id=\"T_128b8_row2_col5\" class=\"data row2 col5\" >1:8:2</td>\n",
       "      <td id=\"T_128b8_row2_col6\" class=\"data row2 col6\" >57400</td>\n",
       "      <td id=\"T_128b8_row2_col7\" class=\"data row2 col7\" >0</td>\n",
       "      <td id=\"T_128b8_row2_col8\" class=\"data row2 col8\" >1</td>\n",
       "      <td id=\"T_128b8_row2_col9\" class=\"data row2 col9\" >(null)</td>\n",
       "      <td id=\"T_128b8_row2_col10\" class=\"data row2 col10\" >none</td>\n",
       "    </tr>\n",
       "  </tbody>\n",
       "</table>\n"
      ],
      "text/plain": [
       "<pandas.io.formats.style.Styler at 0x7f4a9416cf10>"
      ]
     },
     "metadata": {},
     "output_type": "display_data"
    }
   ],
   "source": [
    "# sinfo -lNe\n",
    "try:\n",
    "    rc = hpctk.run_remote([\"sinfo -lNe\"], hpc_mn, ssh_creds, stdout=False)\n",
    "    hpctk.show_tab_styled(rc.stdout, 1, hpctk.highlight_state)\n",
    "\n",
    "except subprocess.CalledProcessError as e:\n",
    "    print(f\"\\n{hpctk.STATE_FAIL} Failed: {e.returncode}\\n\")\n",
    "    print(f\":: Error message: {e.stderr}\")"
   ]
  },
  {
   "cell_type": "markdown",
   "metadata": {},
   "source": [
    "#### Get squeue"
   ]
  },
  {
   "cell_type": "code",
   "execution_count": 3,
   "metadata": {},
   "outputs": [
    {
     "data": {
      "text/html": [
       "<style type=\"text/css\">\n",
       "</style>\n",
       "<table id=\"T_04d24\">\n",
       "  <thead>\n",
       "    <tr>\n",
       "      <th class=\"blank level0\" >&nbsp;</th>\n",
       "      <th id=\"T_04d24_level0_col0\" class=\"col_heading level0 col0\" >JOBID</th>\n",
       "      <th id=\"T_04d24_level0_col1\" class=\"col_heading level0 col1\" >PARTITION</th>\n",
       "      <th id=\"T_04d24_level0_col2\" class=\"col_heading level0 col2\" >NAME</th>\n",
       "      <th id=\"T_04d24_level0_col3\" class=\"col_heading level0 col3\" >USER</th>\n",
       "      <th id=\"T_04d24_level0_col4\" class=\"col_heading level0 col4\" >ST</th>\n",
       "      <th id=\"T_04d24_level0_col5\" class=\"col_heading level0 col5\" >TIME</th>\n",
       "      <th id=\"T_04d24_level0_col6\" class=\"col_heading level0 col6\" >NODES</th>\n",
       "      <th id=\"T_04d24_level0_col7\" class=\"col_heading level0 col7\" >NODELIST(REASON)</th>\n",
       "    </tr>\n",
       "  </thead>\n",
       "  <tbody>\n",
       "  </tbody>\n",
       "</table>\n"
      ],
      "text/plain": [
       "<pandas.io.formats.style.Styler at 0x7f4a510072b0>"
      ]
     },
     "metadata": {},
     "output_type": "display_data"
    }
   ],
   "source": [
    "# squeue\n",
    "try:\n",
    "    rc = hpctk.run_remote([\"squeue\", \"-u\", user, \"-t\", \"pending,running\", \"-r\"], hpc_mn, ssh_creds, stdout=False)\n",
    "    hpctk.show_tab_styled_bar(rc.stdout, 0, hpctk.highlight_job_state, ['ST'])\n",
    "\n",
    "except subprocess.CalledProcessError as e:\n",
    "    print(f\"\\n{hpctk.STATE_FAIL} Failed: {e.returncode}\\n\")\n",
    "    print(f\":: Error message: {e.stderr}\")"
   ]
  },
  {
   "cell_type": "markdown",
   "metadata": {},
   "source": [
    "#### Run job on HPC"
   ]
  }
 ],
 "metadata": {
  "kernelspec": {
   "display_name": "Python 3",
   "language": "python",
   "name": "python3"
  },
  "language_info": {
   "codemirror_mode": {
    "name": "ipython",
    "version": 3
   },
   "file_extension": ".py",
   "mimetype": "text/x-python",
   "name": "python",
   "nbconvert_exporter": "python",
   "pygments_lexer": "ipython3",
   "version": "3.10.12"
  }
 },
 "nbformat": 4,
 "nbformat_minor": 2
}
