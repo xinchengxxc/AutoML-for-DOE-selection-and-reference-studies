{
 "cells": [
  {
   "cell_type": "markdown",
   "metadata": {},
   "source": [
    "<img src=\"assets/hpc_onboarder.jpg\" alt=\"HPC Builder Logo\" width=\"128\"/>\n",
    "\n",
    "# HPC Onboarder\n",
    "\n",
    "ARC - Aschaffenburger Research Cluster<br>\n",
    "Version 2024.5.1<br>\n",
    "_by Kat 2024_"
   ]
  },
  {
   "cell_type": "markdown",
   "metadata": {},
   "source": [
    "#### Welcome to HPC Onboarder"
   ]
  },
  {
   "cell_type": "code",
   "execution_count": 1,
   "metadata": {},
   "outputs": [
    {
     "name": "stdout",
     "output_type": "stream",
     "text": [
      "🚨 Missing HPC yaml\n"
     ]
    }
   ],
   "source": [
    "from io import StringIO\n",
    "import pandas as pd\n",
    "import subprocess\n",
    "import yaml\n",
    "import hpctk\n",
    "import os\n",
    "\n",
    "HPC_CREDS_FILE=\"../__hpc_creds.yaml\"\n",
    "\n",
    "# check for HPC yaml\n",
    "print(f\"{hpctk.STATE_DONE} HPC yaml\" if os.path.exists(HPC_CREDS_FILE) else f\"{hpctk.STATE_WARN} Missing HPC yaml\")"
   ]
  },
  {
   "cell_type": "markdown",
   "metadata": {},
   "source": [
    "#### HPC Onboarder: Create your personal HPC yaml"
   ]
  },
  {
   "cell_type": "code",
   "execution_count": 2,
   "metadata": {},
   "outputs": [],
   "source": [
    "configurator = hpctk.YAML_hpc_creds_configurator(HPC_CREDS_FILE)\n",
    "file_name, yaml_exists = configurator.check_file_existence()\n",
    "\n",
    "if (yaml_exists):\n",
    "    data = configurator.get_yaml_input(configurator.read_yaml())\n",
    "else:\n",
    "    data = configurator.get_yaml_input()\n",
    "\n",
    "configurator.save_to_yaml(data)"
   ]
  },
  {
   "cell_type": "markdown",
   "metadata": {},
   "source": [
    "#### Load HPC yaml"
   ]
  },
  {
   "cell_type": "code",
   "execution_count": 4,
   "metadata": {},
   "outputs": [
    {
     "data": {
      "text/html": [
       "<style type=\"text/css\">\n",
       "#T_22689 th {\n",
       "  background-color: #404040;\n",
       "  color: white;\n",
       "  border-color: black;\n",
       "  border-style: solid;\n",
       "  border-width: 1px;\n",
       "}\n",
       "#T_22689_row0_col0, #T_22689_row0_col1, #T_22689_row1_col0, #T_22689_row1_col1, #T_22689_row2_col0, #T_22689_row2_col1, #T_22689_row3_col0, #T_22689_row3_col1, #T_22689_row4_col0, #T_22689_row4_col1, #T_22689_row5_col0, #T_22689_row5_col1, #T_22689_row6_col0, #T_22689_row6_col1, #T_22689_row7_col0, #T_22689_row7_col1, #T_22689_row8_col0, #T_22689_row8_col1, #T_22689_row9_col0, #T_22689_row9_col1 {\n",
       "  background-color: #f4f4f4;\n",
       "  color: black;\n",
       "  border-color: black;\n",
       "  border-style: solid;\n",
       "  border-width: 1px;\n",
       "  text-align: left;\n",
       "}\n",
       "</style>\n",
       "<table id=\"T_22689\">\n",
       "  <thead>\n",
       "    <tr>\n",
       "      <th id=\"T_22689_level0_col0\" class=\"col_heading level0 col0\" >Fact</th>\n",
       "      <th id=\"T_22689_level0_col1\" class=\"col_heading level0 col1\" >Value</th>\n",
       "    </tr>\n",
       "  </thead>\n",
       "  <tbody>\n",
       "    <tr>\n",
       "      <td id=\"T_22689_row0_col0\" class=\"data row0 col0\" >lab</td>\n",
       "      <td id=\"T_22689_row0_col1\" class=\"data row0 col1\" >aghm</td>\n",
       "    </tr>\n",
       "    <tr>\n",
       "      <td id=\"T_22689_row1_col0\" class=\"data row1 col0\" >user</td>\n",
       "      <td id=\"T_22689_row1_col1\" class=\"data row1 col1\" >u01233</td>\n",
       "    </tr>\n",
       "    <tr>\n",
       "      <td id=\"T_22689_row2_col0\" class=\"data row2 col0\" >container_name</td>\n",
       "      <td id=\"T_22689_row2_col1\" class=\"data row2 col1\" >datagen</td>\n",
       "    </tr>\n",
       "    <tr>\n",
       "      <td id=\"T_22689_row3_col0\" class=\"data row3 col0\" >container_tag</td>\n",
       "      <td id=\"T_22689_row3_col1\" class=\"data row3 col1\" >latest</td>\n",
       "    </tr>\n",
       "    <tr>\n",
       "      <td id=\"T_22689_row4_col0\" class=\"data row4 col0\" >docker_file</td>\n",
       "      <td id=\"T_22689_row4_col1\" class=\"data row4 col1\" >Dockerfile</td>\n",
       "    </tr>\n",
       "    <tr>\n",
       "      <td id=\"T_22689_row5_col0\" class=\"data row5 col0\" >registry_host</td>\n",
       "      <td id=\"T_22689_row5_col1\" class=\"data row5 col1\" >10.32.118.9:5000</td>\n",
       "    </tr>\n",
       "    <tr>\n",
       "      <td id=\"T_22689_row6_col0\" class=\"data row6 col0\" >hpc_mn</td>\n",
       "      <td id=\"T_22689_row6_col1\" class=\"data row6 col1\" >10.32.118.9</td>\n",
       "    </tr>\n",
       "    <tr>\n",
       "      <td id=\"T_22689_row7_col0\" class=\"data row7 col0\" >ssh_creds</td>\n",
       "      <td id=\"T_22689_row7_col1\" class=\"data row7 col1\" >{'port': '44100', 'ssh_key_name': 'hpc', 'ssh_path': '~/.ssh', 'user': 'u01233'}</td>\n",
       "    </tr>\n",
       "    <tr>\n",
       "      <td id=\"T_22689_row8_col0\" class=\"data row8 col0\" >workspace_dir</td>\n",
       "      <td id=\"T_22689_row8_col1\" class=\"data row8 col1\" >data_gen</td>\n",
       "    </tr>\n",
       "    <tr>\n",
       "      <td id=\"T_22689_row9_col0\" class=\"data row9 col0\" >hpc_mn_project_base</td>\n",
       "      <td id=\"T_22689_row9_col1\" class=\"data row9 col1\" >/home_cu/u01233/Projects</td>\n",
       "    </tr>\n",
       "  </tbody>\n",
       "</table>\n"
      ],
      "text/plain": [
       "<pandas.io.formats.style.Styler at 0x782d682e3fd0>"
      ]
     },
     "metadata": {},
     "output_type": "display_data"
    }
   ],
   "source": [
    "# load user HPC settings yaml\n",
    "with open('../__hpc_creds.yaml', 'r') as file:\n",
    "    config = yaml.safe_load(file)\n",
    "\n",
    "# Access the variables\n",
    "lab = config[\"lab\"]\n",
    "user = config[\"user\"]\n",
    "workspace_dir = config[\"workspace_dir\"]\n",
    "container_name = config[\"container_name\"]\n",
    "container_tag = config[\"container_tag\"]\n",
    "docker_file = config[\"docker_file\"]\n",
    "registry_host = config[\"registry_host\"]\n",
    "hpc_mn = config[\"hpc_mn\"]\n",
    "hpc_mn_project_base = config[\"hpc_mn_project_base\"]\n",
    "ssh_creds = config[\"ssh_creds\"]\n",
    "\n",
    "hpctk.print_hpc_setup_yaml(lab, user, container_name, container_tag, docker_file, registry_host, hpc_mn, ssh_creds, workspace_dir, hpc_mn_project_base)"
   ]
  },
  {
   "cell_type": "markdown",
   "metadata": {},
   "source": [
    "#### HPC Onboarder: Create your SSH key\n",
    "\n",
    "After key generation copy+paste your public key and send that to the HPC user registration team."
   ]
  },
  {
   "cell_type": "code",
   "execution_count": null,
   "metadata": {},
   "outputs": [],
   "source": [
    "configurator = hpctk.SSHConfigurator()\n",
    "\n",
    "try:\n",
    "    hpctk.gen_ssh_key(ssh_creds)\n",
    "\n",
    "except subprocess.CalledProcessError as e:\n",
    "    print(f\"\\n{hpctk.STATE_FAIL} Failed: {e.returncode}\\n\")\n",
    "    print(f\":: Error message: {e.stderr}\")"
   ]
  },
  {
   "cell_type": "markdown",
   "metadata": {},
   "source": [
    "#### HPC Onboard: Add HPC as known host"
   ]
  },
  {
   "cell_type": "code",
   "execution_count": null,
   "metadata": {},
   "outputs": [],
   "source": [
    "try:\n",
    "    pubkey = hpctk.get_ssh_server_pubkey(hpc_mn, ssh_creds)\n",
    "    hpctk.add_host_key_to_known_hosts(pubkey, ssh_creds)\n",
    "\n",
    "except subprocess.CalledProcessError as e:\n",
    "    print(f\"\\n{hpctk.STATE_FAIL} Failed: {e.returncode}\\n\")\n",
    "    print(f\":: Error message: {e.stderr}\")"
   ]
  }
 ],
 "metadata": {
  "kernelspec": {
   "display_name": "Python 3",
   "language": "python",
   "name": "python3"
  },
  "language_info": {
   "codemirror_mode": {
    "name": "ipython",
    "version": 3
   },
   "file_extension": ".py",
   "mimetype": "text/x-python",
   "name": "python",
   "nbconvert_exporter": "python",
   "pygments_lexer": "ipython3",
   "version": "3.10.12"
  }
 },
 "nbformat": 4,
 "nbformat_minor": 2
}
