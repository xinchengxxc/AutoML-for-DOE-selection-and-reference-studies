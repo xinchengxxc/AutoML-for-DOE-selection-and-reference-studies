{
 "cells": [
  {
   "cell_type": "markdown",
   "metadata": {},
   "source": [
    "<img src=\"assets/logo.jpg\" alt=\"HPC Builder Logo\" width=\"64\"/>\n",
    "\n",
    "# HPC Container Builder\n",
    "\n",
    "ARC - Aschaffenburger Research Cluster<br>\n",
    "Version 2024.5.1<br>\n",
    "_by Kat 2024_"
   ]
  },
  {
   "cell_type": "markdown",
   "metadata": {},
   "source": [
    "#### Setup docker build environment\n",
    "\n",
    "First, you'll need to setup some mandatory information before start using the HPC Builder. Create a file **__hpc_setup.yaml** in your workspace root folder and fill in all information:\n",
    "\n",
    "**Also:** Just put your yaml file in gitignore to avoid pushing that info to the repository."
   ]
  },
  {
   "cell_type": "code",
   "execution_count": 1,
   "metadata": {},
   "outputs": [
    {
     "data": {
      "text/html": [
       "<style type=\"text/css\">\n",
       "#T_7f398 th {\n",
       "  background-color: #404040;\n",
       "  color: white;\n",
       "  border-color: black;\n",
       "  border-style: solid;\n",
       "  border-width: 1px;\n",
       "}\n",
       "#T_7f398_row0_col0, #T_7f398_row0_col1, #T_7f398_row1_col0, #T_7f398_row1_col1, #T_7f398_row2_col0, #T_7f398_row2_col1, #T_7f398_row3_col0, #T_7f398_row3_col1, #T_7f398_row4_col0, #T_7f398_row4_col1, #T_7f398_row5_col0, #T_7f398_row5_col1, #T_7f398_row6_col0, #T_7f398_row6_col1, #T_7f398_row7_col0, #T_7f398_row7_col1, #T_7f398_row8_col0, #T_7f398_row8_col1, #T_7f398_row9_col0, #T_7f398_row9_col1 {\n",
       "  background-color: #f4f4f4;\n",
       "  color: black;\n",
       "  border-color: black;\n",
       "  border-style: solid;\n",
       "  border-width: 1px;\n",
       "  text-align: left;\n",
       "}\n",
       "</style>\n",
       "<table id=\"T_7f398\">\n",
       "  <thead>\n",
       "    <tr>\n",
       "      <th id=\"T_7f398_level0_col0\" class=\"col_heading level0 col0\" >Fact</th>\n",
       "      <th id=\"T_7f398_level0_col1\" class=\"col_heading level0 col1\" >Value</th>\n",
       "    </tr>\n",
       "  </thead>\n",
       "  <tbody>\n",
       "    <tr>\n",
       "      <td id=\"T_7f398_row0_col0\" class=\"data row0 col0\" >lab</td>\n",
       "      <td id=\"T_7f398_row0_col1\" class=\"data row0 col1\" >aghm</td>\n",
       "    </tr>\n",
       "    <tr>\n",
       "      <td id=\"T_7f398_row1_col0\" class=\"data row1 col0\" >user</td>\n",
       "      <td id=\"T_7f398_row1_col1\" class=\"data row1 col1\" >u230292</td>\n",
       "    </tr>\n",
       "    <tr>\n",
       "      <td id=\"T_7f398_row2_col0\" class=\"data row2 col0\" >container_name</td>\n",
       "      <td id=\"T_7f398_row2_col1\" class=\"data row2 col1\" >datagen</td>\n",
       "    </tr>\n",
       "    <tr>\n",
       "      <td id=\"T_7f398_row3_col0\" class=\"data row3 col0\" >container_tag</td>\n",
       "      <td id=\"T_7f398_row3_col1\" class=\"data row3 col1\" >latest</td>\n",
       "    </tr>\n",
       "    <tr>\n",
       "      <td id=\"T_7f398_row4_col0\" class=\"data row4 col0\" >docker_file</td>\n",
       "      <td id=\"T_7f398_row4_col1\" class=\"data row4 col1\" >Dockerfile</td>\n",
       "    </tr>\n",
       "    <tr>\n",
       "      <td id=\"T_7f398_row5_col0\" class=\"data row5 col0\" >registry_host</td>\n",
       "      <td id=\"T_7f398_row5_col1\" class=\"data row5 col1\" >DT-IW-20-028:5000</td>\n",
       "    </tr>\n",
       "    <tr>\n",
       "      <td id=\"T_7f398_row6_col0\" class=\"data row6 col0\" >hpc_mn</td>\n",
       "      <td id=\"T_7f398_row6_col1\" class=\"data row6 col1\" >10.32.118.9</td>\n",
       "    </tr>\n",
       "    <tr>\n",
       "      <td id=\"T_7f398_row7_col0\" class=\"data row7 col0\" >ssh_creds</td>\n",
       "      <td id=\"T_7f398_row7_col1\" class=\"data row7 col1\" >{'port': '44100', 'ssh_key_name': 'hpc_u230292', 'ssh_path': '~/.ssh', 'user': 'u230292'}</td>\n",
       "    </tr>\n",
       "    <tr>\n",
       "      <td id=\"T_7f398_row8_col0\" class=\"data row8 col0\" >workspace_dir</td>\n",
       "      <td id=\"T_7f398_row8_col1\" class=\"data row8 col1\" >data_gen</td>\n",
       "    </tr>\n",
       "    <tr>\n",
       "      <td id=\"T_7f398_row9_col0\" class=\"data row9 col0\" >hpc_mn_project_base</td>\n",
       "      <td id=\"T_7f398_row9_col1\" class=\"data row9 col1\" >/home_cu/u230292/Projects</td>\n",
       "    </tr>\n",
       "  </tbody>\n",
       "</table>\n"
      ],
      "text/plain": [
       "<pandas.io.formats.style.Styler at 0x7f85dc312a70>"
      ]
     },
     "metadata": {},
     "output_type": "display_data"
    }
   ],
   "source": [
    "from io import StringIO\n",
    "import pandas as pd\n",
    "import subprocess\n",
    "import yaml\n",
    "import hpctk\n",
    "\n",
    "# load user HPC settings yaml\n",
    "with open('../__hpc_creds.yaml', 'r') as file:\n",
    "    config = yaml.safe_load(file)\n",
    "\n",
    "# Access the variables\n",
    "lab = config[\"lab\"]\n",
    "user = config[\"user\"]\n",
    "workspace_dir = config[\"workspace_dir\"]\n",
    "container_name = config[\"container_name\"]\n",
    "container_tag = config[\"container_tag\"]\n",
    "docker_file = config[\"docker_file\"]\n",
    "registry_host = config[\"registry_host\"]\n",
    "hpc_mn = config[\"hpc_mn\"]\n",
    "hpc_mn_project_base = config[\"hpc_mn_project_base\"]\n",
    "ssh_creds = config[\"ssh_creds\"]\n",
    "\n",
    "hpctk.print_hpc_setup_yaml(lab, user, container_name, container_tag, docker_file, registry_host, hpc_mn, ssh_creds, workspace_dir, hpc_mn_project_base)"
   ]
  },
  {
   "cell_type": "markdown",
   "metadata": {},
   "source": [
    "#### Build and tag docker image for HPC\n",
    "\n",
    "You'll need to build your docker image first. A build can take up to **10 minutes** or more so just be patient. A build might error out. **Read the error messages and don't ignore any warnings.** If your docker image was built fine, a tag for a specific docker registry is mandatory."
   ]
  },
  {
   "cell_type": "code",
   "execution_count": 21,
   "metadata": {},
   "outputs": [
    {
     "name": "stdout",
     "output_type": "stream",
     "text": [
      "🚧 Build docker image local/aghm_u230292_datagen:latest...\n",
      "\n",
      "🚧 Tag docker image 10.32.118.10:5000/aghm_u230292_datagen:latest...\n",
      "\n",
      "✅ DONE!\n"
     ]
    },
    {
     "data": {
      "text/html": [
       "<style type=\"text/css\">\n",
       "#T_939f2_row0_col1 {\n",
       "  color: white;\n",
       "  background-color: green;\n",
       "}\n",
       "</style>\n",
       "<table id=\"T_939f2\">\n",
       "  <thead>\n",
       "    <tr>\n",
       "      <th class=\"blank level0\" >&nbsp;</th>\n",
       "      <th id=\"T_939f2_level0_col0\" class=\"col_heading level0 col0\" >REPOSITORY</th>\n",
       "      <th id=\"T_939f2_level0_col1\" class=\"col_heading level0 col1\" >TAG</th>\n",
       "      <th id=\"T_939f2_level0_col2\" class=\"col_heading level0 col2\" >IMAGE_ID</th>\n",
       "      <th id=\"T_939f2_level0_col3\" class=\"col_heading level0 col3\" >SIZE</th>\n",
       "    </tr>\n",
       "  </thead>\n",
       "  <tbody>\n",
       "    <tr>\n",
       "      <th id=\"T_939f2_level0_row0\" class=\"row_heading level0 row0\" >0</th>\n",
       "      <td id=\"T_939f2_row0_col0\" class=\"data row0 col0\" >10.32.118.10:5000/aghm_u230292_datagen</td>\n",
       "      <td id=\"T_939f2_row0_col1\" class=\"data row0 col1\" >latest</td>\n",
       "      <td id=\"T_939f2_row0_col2\" class=\"data row0 col2\" >13b0e07814fe</td>\n",
       "      <td id=\"T_939f2_row0_col3\" class=\"data row0 col3\" >9.45GB</td>\n",
       "    </tr>\n",
       "  </tbody>\n",
       "</table>\n"
      ],
      "text/plain": [
       "<pandas.io.formats.style.Styler at 0x7fc703579e40>"
      ]
     },
     "metadata": {},
     "output_type": "display_data"
    }
   ],
   "source": [
    "try:\n",
    "    print(f\"{hpctk.STATE_WORK} Build docker image local/{lab}_{user}_{container_name}:{container_tag}...\")\n",
    "    hpctk.run([\"docker\", \"build\", \"-f\", f\"{docker_file}\", \"-t\", f\"local/{lab}_{user}_{container_name}:{container_tag}\", \".\"])\n",
    "    print(f\"{hpctk.STATE_WORK} Tag docker image {registry_host}/{lab}_{user}_{container_name}:{container_tag}...\")\n",
    "    hpctk.run([\"docker\", \"image\", \"tag\", f\"local/{lab}_{user}_{container_name}:{container_tag}\", f\"{registry_host}/{lab}_{user}_{container_name}:{container_tag}\"])\n",
    "    print(f\"{hpctk.STATE_DONE} DONE!\")\n",
    "\n",
    "    result = hpctk.run([\"docker\", \"image\", \"ls\", \"--format\", \"REPOSITORY\\tTAG\\tIMAGE_ID\\tSIZE\\n{{.Repository}}\\t{{.Tag}}\\t{{.ID}}\\t{{.Size}}\", f\"{registry_host}/{lab}_{user}_{container_name}:{container_tag}\"], stdout=False)\n",
    "    hpctk.show_tab_styled(result.stdout, 0, hpctk.highlight_tags, columns=['TAG'])\n",
    "\n",
    "except subprocess.CalledProcessError as e: \n",
    "    print(f\"\\n{hpctk.STATE_FAIL} Failed: {e.returncode}\\n\")\n",
    "    print(f\":: Error message: {e.stderr}\")"
   ]
  },
  {
   "cell_type": "markdown",
   "metadata": {},
   "source": [
    "#### Build and tag docker image for development\n",
    "\n",
    "Run this to create a local container image for development."
   ]
  },
  {
   "cell_type": "code",
   "execution_count": 22,
   "metadata": {},
   "outputs": [
    {
     "name": "stdout",
     "output_type": "stream",
     "text": [
      "🚧 Build docker image local/datagen:latest...\n"
     ]
    },
    {
     "name": "stdout",
     "output_type": "stream",
     "text": [
      "\n",
      "✅ DONE!\n"
     ]
    },
    {
     "data": {
      "text/html": [
       "<style type=\"text/css\">\n",
       "#T_b9677_row0_col1 {\n",
       "  color: white;\n",
       "  background-color: green;\n",
       "}\n",
       "</style>\n",
       "<table id=\"T_b9677\">\n",
       "  <thead>\n",
       "    <tr>\n",
       "      <th class=\"blank level0\" >&nbsp;</th>\n",
       "      <th id=\"T_b9677_level0_col0\" class=\"col_heading level0 col0\" >REPOSITORY</th>\n",
       "      <th id=\"T_b9677_level0_col1\" class=\"col_heading level0 col1\" >TAG</th>\n",
       "      <th id=\"T_b9677_level0_col2\" class=\"col_heading level0 col2\" >IMAGE_ID</th>\n",
       "      <th id=\"T_b9677_level0_col3\" class=\"col_heading level0 col3\" >SIZE</th>\n",
       "    </tr>\n",
       "  </thead>\n",
       "  <tbody>\n",
       "    <tr>\n",
       "      <th id=\"T_b9677_level0_row0\" class=\"row_heading level0 row0\" >0</th>\n",
       "      <td id=\"T_b9677_row0_col0\" class=\"data row0 col0\" >10.32.118.10:5000/aghm_u230292_datagen</td>\n",
       "      <td id=\"T_b9677_row0_col1\" class=\"data row0 col1\" >latest</td>\n",
       "      <td id=\"T_b9677_row0_col2\" class=\"data row0 col2\" >13b0e07814fe</td>\n",
       "      <td id=\"T_b9677_row0_col3\" class=\"data row0 col3\" >9.45GB</td>\n",
       "    </tr>\n",
       "  </tbody>\n",
       "</table>\n"
      ],
      "text/plain": [
       "<pandas.io.formats.style.Styler at 0x7fc740e5ab60>"
      ]
     },
     "metadata": {},
     "output_type": "display_data"
    }
   ],
   "source": [
    "try:\n",
    "    print(f\"{hpctk.STATE_WORK} Build docker image local/{container_name}:{container_tag}...\")\n",
    "    hpctk.run([\"docker\", \"build\", \"-f\", f\"{docker_file}\", \"-t\", f\"local/{container_name}:{container_tag}\", \".\"])\n",
    "    print(f\"{hpctk.STATE_DONE} DONE!\")\n",
    "\n",
    "    result = hpctk.run([\"docker\", \"image\", \"ls\", \"--format\", \"REPOSITORY\\tTAG\\tIMAGE_ID\\tSIZE\\n{{.Repository}}\\t{{.Tag}}\\t{{.ID}}\\t{{.Size}}\", f\"{registry_host}/{lab}_{user}_{container_name}:{container_tag}\"], stdout=False)\n",
    "    hpctk.show_tab_styled(result.stdout, 0, hpctk.highlight_tags, columns=['TAG'])\n",
    "\n",
    "except subprocess.CalledProcessError as e:\n",
    "    print(f\"\\n{hpctk.STATE_FAIL} Failed: {e.returncode}\\n\")\n",
    "    print(f\":: Error message: {e.stderr}\")"
   ]
  },
  {
   "cell_type": "markdown",
   "metadata": {},
   "source": [
    "#### Push docker image to HPC"
   ]
  },
  {
   "cell_type": "code",
   "execution_count": 25,
   "metadata": {},
   "outputs": [
    {
     "name": "stdout",
     "output_type": "stream",
     "text": [
      "🚧 Push docker image 10.32.118.10:5000/aghm_u230292_datagen:latest...\n",
      "\n",
      "🤢 Failed: 1\n",
      "\n",
      ":: Error message: Get \"https://10.32.118.10:5000/v2/\": net/http: request canceled while waiting for connection (Client.Timeout exceeded while awaiting headers)\n",
      "\n"
     ]
    }
   ],
   "source": [
    "try:\n",
    "    print(f\"{hpctk.STATE_WORK} Push docker image {registry_host}/{lab}_{user}_{container_name}:{container_tag}...\")\n",
    "    hpctk.run([\"docker\", \"push\", f\"{registry_host}/{lab}_{user}_{container_name}:{container_tag}\"], stdout=False)\n",
    "    print(f\"\\n{hpctk.STATE_DONE} DONE!\\n\")\n",
    "    \n",
    "    hpctk.run([\"curl\", \"-X\", \"GET\", f\"https://{registry_host}/v2/{lab}_{user}_{container_name}/tags/list\"])\n",
    "\n",
    "except subprocess.CalledProcessError as e:\n",
    "    print(f\"\\n{hpctk.STATE_FAIL} Failed: {e.returncode}\\n\")\n",
    "    print(f\":: Error message: {e.stderr}\")"
   ]
  },
  {
   "cell_type": "markdown",
   "metadata": {},
   "source": [
    "#### Push code to HPC"
   ]
  },
  {
   "cell_type": "code",
   "execution_count": 6,
   "metadata": {},
   "outputs": [
    {
     "name": "stdout",
     "output_type": "stream",
     "text": [
      "🚧 Push code to HPC u230292@10.32.118.9:/home_cu/u230292/Projects...\n",
      "sending incremental file list\n",
      "data_gen/hpc/run_LARs.bash\n",
      "\n",
      "sent 1,494 bytes  received 75 bytes  1,046.00 bytes/sec\n",
      "total size is 2,111,598  speedup is 1,345.82\n",
      "\n",
      "\n",
      "✅ DONE!\n",
      "\n"
     ]
    }
   ],
   "source": [
    "try:\n",
    "    ssh_port = ssh_creds[\"port\"]\n",
    "    ssh_key_file = f\"{ssh_creds['ssh_path']}/{ssh_creds['ssh_key_name']}\"\n",
    "    ssh_user = ssh_creds[\"user\"]\n",
    "\n",
    "    print(f\"{hpctk.STATE_WORK} Push code to HPC {ssh_user}@{hpc_mn}:{hpc_mn_project_base}...\")\n",
    "    hpctk.run([\"rsync\", \"-av\", f\"--rsh=ssh -p {ssh_port} -i {ssh_key_file}\", f\"../{workspace_dir}\", f\"{ssh_user}@{hpc_mn}:{hpc_mn_project_base}/\"])\n",
    "    print(f\"\\n{hpctk.STATE_DONE} DONE!\\n\")\n",
    "\n",
    "except subprocess.CalledProcessError as e:\n",
    "    print(f\"\\n{hpctk.STATE_FAIL} Failed: {e.returncode}\\n\")\n",
    "    print(f\"Error message: {e.stderr}\")"
   ]
  }
 ],
 "metadata": {
  "kernelspec": {
   "display_name": "Python 3",
   "language": "python",
   "name": "python3"
  },
  "language_info": {
   "codemirror_mode": {
    "name": "ipython",
    "version": 3
   },
   "file_extension": ".py",
   "mimetype": "text/x-python",
   "name": "python",
   "nbconvert_exporter": "python",
   "pygments_lexer": "ipython3",
   "version": "3.10.12"
  }
 },
 "nbformat": 4,
 "nbformat_minor": 2
}
